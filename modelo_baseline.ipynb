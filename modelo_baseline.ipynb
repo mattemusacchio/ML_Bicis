{
 "cells": [
  {
   "cell_type": "markdown",
   "id": "107b1c99",
   "metadata": {},
   "source": [
    "### <span style=\"color: lightskyblue;\"> Creación de Samples X y labels Y </span>"
   ]
  },
  {
   "cell_type": "code",
   "execution_count": 8,
   "id": "d2da368c",
   "metadata": {},
   "outputs": [],
   "source": [
    "import pandas as pd\n",
    "\n",
    "# Columnas necesarias\n",
    "cols = ['fecha_origen_recorrido', 'fecha_destino_recorrido', \n",
    "        'id_estacion_origen', 'id_estacion_destino']\n",
    "\n",
    "# Tipos optimizados\n",
    "dtype = {\n",
    "    'id_estacion_origen': 'string',\n",
    "    'id_estacion_destino': 'string'\n",
    "}\n",
    "\n",
    "parse_dates = ['fecha_origen_recorrido', 'fecha_destino_recorrido']\n",
    "\n",
    "trips = pd.read_csv('data/raw/trips_2024.csv', usecols=cols, dtype=dtype, parse_dates=parse_dates)\n"
   ]
  },
  {
   "cell_type": "code",
   "execution_count": 9,
   "id": "20b6dafa",
   "metadata": {},
   "outputs": [],
   "source": [
    "station_ids = pd.Index(\n",
    "    pd.concat([trips['id_estacion_origen'], trips['id_estacion_destino']])\n",
    "    .dropna()\n",
    "    .unique()\n",
    ")\n",
    "station_ids = station_ids.sort_values()\n"
   ]
  },
  {
   "cell_type": "code",
   "execution_count": 11,
   "id": "65b70595",
   "metadata": {},
   "outputs": [],
   "source": [
    "import pandas as pd\n",
    "import numpy as np\n",
    "\n",
    "delta_T = pd.Timedelta(minutes=30)\n",
    "\n",
    "# Paso 1: Agregamos columnas de ventana temporal (inicio de bloque de 30 min)\n",
    "trips['ventana_origen'] = trips['fecha_origen_recorrido'].dt.floor('30min')\n",
    "trips['ventana_destino'] = trips['fecha_destino_recorrido'].dt.floor('30min')\n",
    "\n",
    "# Paso 2: Reunimos todos los IDs de estación ordenados\n",
    "station_ids = pd.Index(\n",
    "    pd.concat([trips['id_estacion_origen'], trips['id_estacion_destino']])\n",
    "    .unique()\n",
    ").sort_values()\n",
    "\n",
    "\n",
    "# Paso 3: Conteo de partidas (X)\n",
    "X_df = (\n",
    "    trips.groupby(['ventana_origen', 'id_estacion_origen'])\n",
    "    .size()\n",
    "    .unstack(fill_value=0)\n",
    "    .reindex(columns=station_ids, fill_value=0)\n",
    ")\n",
    "\n",
    "# Paso 4: Conteo de arribos (Y)\n",
    "Y_df = (\n",
    "    trips.groupby(['ventana_destino', 'id_estacion_destino'])\n",
    "    .size()\n",
    "    .unstack(fill_value=0)\n",
    "    .reindex(columns=station_ids, fill_value=0)\n",
    ")\n",
    "\n",
    "# Paso 5: Alinear X y Y → el Y de cada fila es el arribo en la ventana siguiente\n",
    "X_df = X_df.sort_index()\n",
    "Y_df = Y_df.sort_index()\n",
    "\n",
    "# Solo nos quedamos con ventanas que tienen su siguiente definida\n",
    "common_index = X_df.index.intersection(Y_df.index - delta_T)\n",
    "X_df = X_df.loc[common_index]\n",
    "Y_df = Y_df.loc[common_index + delta_T]\n",
    "\n",
    "# Paso 6: Convertimos a arrays finales\n",
    "X = X_df.values.astype('int16')\n",
    "Y = Y_df.values.astype('int16')\n",
    "timestamps = X_df.index.to_series()\n"
   ]
  },
  {
   "cell_type": "code",
   "execution_count": null,
   "id": "eaa2cd7d",
   "metadata": {},
   "outputs": [],
   "source": [
    "np.savez_compressed('data/processed/dataset_XY_bicis.npz', X=X, Y=Y, timestamps=timestamps.to_numpy())"
   ]
  },
  {
   "cell_type": "code",
   "execution_count": 13,
   "id": "ec89501a",
   "metadata": {},
   "outputs": [
    {
     "name": "stdout",
     "output_type": "stream",
     "text": [
      "X shape: (17511, 398)\n",
      "Y shape: (17511, 398)\n",
      "Timestamps shape: (17511,)\n",
      "Estaciones únicas: 398\n",
      "Estaciones: ['101', '102', '104', '107', '111', '112', '114', '116', '117', '118', '12', '120', '121', '122', '124', '126', '128', '13', '130', '131', '132', '134', '135', '137', '138', '14', '144', '146', '148', '149', '150', '151', '152', '153', '155', '156', '158', '161', '162', '163', '164', '165', '166', '167', '168', '169', '17', '171', '172', '174', '175', '176', '177', '179', '181', '182', '183', '184', '186', '187', '188', '189', '190', '191', '193', '194', '196', '197', '199', '2', '200', '202', '203', '204', '206', '207', '208', '21', '210', '212', '213', '215', '216', '219', '22', '220', '222', '223', '227', '228', '229', '23', '230', '231', '232', '234', '235', '236', '237', '239', '24', '241', '242', '245', '247', '248', '25', '251', '252', '253', '254', '255', '257', '258', '259', '26', '260', '261', '262', '263', '264', '265', '267', '268', '269', '27', '270', '271', '273', '275', '277', '278', '280', '281', '284', '289', '29', '291', '294', '299', '3', '301', '302', '304', '307', '308', '309', '310', '311', '313', '316', '318', '32', '322', '323', '324', '327', '329', '33', '330', '333', '335', '336', '340', '342', '348', '349', '35', '353', '355', '358', '359', '36', '361', '362', '363', '364', '366', '367', '368', '369', '370', '371', '372', '373', '374', '375', '376', '378', '379', '38', '381', '382', '383', '384', '385', '386', '387', '392', '393', '395', '4', '400', '402', '403', '407', '408', '41', '412', '413', '414', '416', '417', '418', '420', '422', '423', '424', '425', '426', '427', '428', '429', '43', '431', '432', '433', '434', '435', '436', '44', '440', '441', '443', '444', '448', '449', '45', '453', '454', '455', '457', '458', '46', '460', '461', '464', '465', '466', '467', '468', '469', '471', '472', '473', '474', '475', '476', '477', '478', '479', '48', '480', '481', '482', '483', '484', '485', '486', '487', '488', '489', '49', '490', '491', '492', '493', '494', '496', '497', '498', '499', '5', '50', '500', '501', '502', '503', '504', '505', '506', '507', '508', '509', '51', '511', '512', '513', '515', '516', '517', '518', '519', '520', '521', '522', '524', '525', '526', '527', '528', '529', '530', '531', '532', '533', '534', '535', '536', '537', '538', '539', '54', '540', '541', '542', '543', '544', '545', '546', '547', '548', '549', '550', '551', '552', '553', '554', '555', '556', '557', '558', '559', '56', '560', '561', '562', '563', '564', '565', '566', '567', '568', '569', '57', '570', '572', '573', '574', '575', '576', '577', '58', '59', '6', '60', '61', '63', '64', '65', '66', '68', '69', '7', '70', '71', '73', '74', '75', '76', '77', '79', '8', '80', '82', '83', '85', '86', '87', '89', '9', '91', '92', '93', '94', '96', '98', '99']\n",
      "Primeras 5 filas de X:\n",
      " [[0 0 0 ... 0 0 0]\n",
      " [0 0 0 ... 0 0 0]\n",
      " [0 0 1 ... 0 1 2]\n",
      " [1 0 0 ... 0 1 1]\n",
      " [0 0 0 ... 1 0 0]]\n",
      "Primeras 5 filas de Y:\n",
      " [[0 0 0 ... 0 0 0]\n",
      " [1 0 0 ... 0 0 1]\n",
      " [0 0 0 ... 1 1 0]\n",
      " [0 0 0 ... 1 1 0]\n",
      " [0 0 0 ... 0 0 1]]\n"
     ]
    }
   ],
   "source": [
    "# Previsualizar X e Y guardados\n",
    "print(\"X shape:\", X.shape)\n",
    "print(\"Y shape:\", Y.shape)\n",
    "print(\"Timestamps shape:\", timestamps.shape)\n",
    "print(\"Estaciones únicas:\", len(station_ids))\n",
    "print(\"Estaciones:\", station_ids.tolist())\n",
    "print(\"Primeras 5 filas de X:\\n\", X[:5])\n",
    "print(\"Primeras 5 filas de Y:\\n\", Y[:5])"
   ]
  }
 ],
 "metadata": {
  "kernelspec": {
   "display_name": "Python 3",
   "language": "python",
   "name": "python3"
  },
  "language_info": {
   "codemirror_mode": {
    "name": "ipython",
    "version": 3
   },
   "file_extension": ".py",
   "mimetype": "text/x-python",
   "name": "python",
   "nbconvert_exporter": "python",
   "pygments_lexer": "ipython3",
   "version": "3.11.2"
  }
 },
 "nbformat": 4,
 "nbformat_minor": 5
}
