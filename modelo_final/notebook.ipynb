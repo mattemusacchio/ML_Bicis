{
 "cells": [
  {
   "cell_type": "markdown",
   "metadata": {},
   "source": [
    "\n",
    "# Pipeline de Feature Engineering para Predicción de Arribos de Bicicletas\n",
    "\n",
    "## Objetivo\n",
    "Transformar datos de recorridos en features para predecir arribos en intervalos de 30 minutos.\n",
    "\n",
    "### Datos de Entrada:\n",
    "- `id_recorrido`, `duracion_recorrido`, `id_estacion_origen`, `nombre_estacion_origen`, etc.\n",
    "\n",
    "### Datos de Salida:\n",
    "- Features engineered para ML: clusters geográficos, ventanas temporales, features históricas (prev_n)\n",
    "- Variable objetivo: `N_arribos_intervalo`\n",
    "\n",
    "### Sin Data Leakage\n",
    "Para predecir arribos en [T, T+30] solo usa información conocida antes de T.\n"
   ]
  },
  {
   "cell_type": "code",
   "execution_count": 1,
   "metadata": {},
   "outputs": [],
   "source": [
    "%load_ext autoreload\n",
    "%autoreload 2"
   ]
  },
  {
   "cell_type": "code",
   "execution_count": 2,
   "metadata": {},
   "outputs": [],
   "source": [
    "import sys\n",
    "import os\n",
    "sys.path.append('src')\n",
    "\n",
    "import pandas as pd\n",
    "import numpy as np\n",
    "from src.feature_engineering import BikeFeatureEngineering\n",
    "\n",
    "# Configuración\n",
    "INPUT_FILE = '../data/processed/trips_enriched.csv'\n",
    "OUTPUT_FILE = '../data/processed/trips_final_features.csv'\n"
   ]
  },
  {
   "cell_type": "code",
   "execution_count": 3,
   "metadata": {},
   "outputs": [
    {
     "name": "stdout",
     "output_type": "stream",
     "text": [
      "✅ Archivo de entrada encontrado\n",
      "Columnas de entrada: 20\n",
      "Primeras columnas: ['id_recorrido', 'duracion_recorrido', 'id_estacion_origen', 'nombre_estacion_origen', 'direccion_estacion_origen', 'long_estacion_origen', 'lat_estacion_origen', 'id_estacion_destino', 'nombre_estacion_destino', 'direccion_estacion_destino']\n"
     ]
    }
   ],
   "source": [
    "# Verificar datos de entrada\n",
    "if os.path.exists(INPUT_FILE):\n",
    "    print(\"✅ Archivo de entrada encontrado\")\n",
    "    \n",
    "    # Leer solo el header para verificar columnas\n",
    "    df_sample = pd.read_csv(INPUT_FILE, nrows=1)\n",
    "    print(f\"Columnas de entrada: {len(df_sample.columns)}\")\n",
    "    print(\"Primeras columnas:\", list(df_sample.columns[:10]))\n",
    "else:\n",
    "    print(\"❌ Archivo de entrada no encontrado\")\n"
   ]
  },
  {
   "cell_type": "code",
   "execution_count": 4,
   "metadata": {},
   "outputs": [
    {
     "name": "stdout",
     "output_type": "stream",
     "text": [
      "🚀 Iniciando feature engineering...\n"
     ]
    }
   ],
   "source": [
    "# Ejecutar pipeline de feature engineering\n",
    "print(\"🚀 Iniciando feature engineering...\")\n",
    "\n",
    "fe = BikeFeatureEngineering(\n",
    "    time_window_minutes=30,  # Intervalos de 30 minutos\n",
    "    n_clusters=16           # 16 clusters geográficos\n",
    ")\n",
    "\n",
    "# NOTA: Esto puede tomar varios minutos con el dataset completo\n",
    "# Para pruebas rápidas, considera usar una muestra más pequeña\n"
   ]
  },
  {
   "cell_type": "code",
   "execution_count": 5,
   "metadata": {},
   "outputs": [
    {
     "name": "stdout",
     "output_type": "stream",
     "text": [
      "=== INICIANDO FEATURE ENGINEERING ===\n",
      "Cargando dataset...\n",
      "Dataset cargado: (12785807, 20)\n",
      "Creando ventanas temporales...\n",
      "Creando clusters geográficos...\n",
      "Creando features básicas...\n",
      "Calculando conteos por intervalo...\n",
      "Creando features históricas...\n",
      "Seleccionando features finales...\n",
      "Guardando dataset transformado: ../data/processed/trips_final_features.csv\n",
      "=== FEATURE ENGINEERING COMPLETADO ===\n",
      "Dataset final: (12785807, 77)\n",
      "Columnas: 77\n"
     ]
    }
   ],
   "source": [
    "# Para testear con muestra pequeña (opcional)\n",
    "USE_SAMPLE = False  # Cambiar a False para dataset completo\n",
    "\n",
    "if USE_SAMPLE:\n",
    "    print(\"⚡ Usando muestra pequeña para testing\")\n",
    "    # Crear muestra de 10,000 filas para pruebas rápidas\n",
    "    df_full = pd.read_csv(INPUT_FILE, nrows=15000000)\n",
    "    sample_file = '../data/processed/trips_sample.csv'\n",
    "    df_full.to_csv(sample_file, index=False)\n",
    "    \n",
    "    # Procesar muestra\n",
    "    df_processed = fe.transform(sample_file, sample_file.replace('.csv', '_features.csv'))\n",
    "else:\n",
    "    # Procesar dataset completo\n",
    "    df_processed = fe.transform(INPUT_FILE, OUTPUT_FILE)\n"
   ]
  },
  {
   "cell_type": "code",
   "execution_count": 6,
   "metadata": {},
   "outputs": [
    {
     "name": "stdout",
     "output_type": "stream",
     "text": [
      "📊 Resultados del feature engineering:\n",
      "Shape final: (12785807, 77)\n",
      "Columnas generadas: 77\n",
      "\n",
      "Primeras columnas: ['id_recorrido', 'duracion_recorrido', 'id_estacion_origen', 'id_estacion_destino', 'id_usuario', 'modelo_bicicleta', 'dia_semana', 'es_finde', 'estacion_del_año', 'edad_usuario']\n",
      "\n",
      "Últimas columnas: ['N_ARRIBOS_prev_2', 'N_SALIDAS_prev_2', 'N_ARRIBOS_prev_3', 'N_SALIDAS_prev_3', 'N_ARRIBOS_prev_4', 'N_SALIDAS_prev_4', 'N_ARRIBOS_prev_5', 'N_SALIDAS_prev_5', 'N_ARRIBOS_prev_6', 'N_SALIDAS_prev_6']\n",
      "\n",
      "Variable objetivo N_arribos_intervalo:\n",
      "  - Valores únicos: 36\n",
      "  - Rango: 0.0 - 36.0\n",
      "  - Media: 2.75\n",
      "  - Nulls: 0\n"
     ]
    }
   ],
   "source": [
    "# Verificar resultados\n",
    "print(\"📊 Resultados del feature engineering:\")\n",
    "print(f\"Shape final: {df_processed.shape}\")\n",
    "print(f\"Columnas generadas: {len(df_processed.columns)}\")\n",
    "print(\"\\nPrimeras columnas:\", list(df_processed.columns[:10]))\n",
    "print(\"\\nÚltimas columnas:\", list(df_processed.columns[-10:]))\n",
    "\n",
    "# Verificar variable objetivo\n",
    "print(f\"\\nVariable objetivo N_arribos_intervalo:\")\n",
    "print(f\"  - Valores únicos: {df_processed['N_arribos_intervalo'].nunique()}\")\n",
    "print(f\"  - Rango: {df_processed['N_arribos_intervalo'].min()} - {df_processed['N_arribos_intervalo'].max()}\")\n",
    "print(f\"  - Media: {df_processed['N_arribos_intervalo'].mean():.2f}\")\n",
    "print(f\"  - Nulls: {df_processed['N_arribos_intervalo'].isna().sum()}\")\n"
   ]
  },
  {
   "cell_type": "markdown",
   "metadata": {
    "vscode": {
     "languageId": "raw"
    }
   },
   "source": [
    "# Entrenamiento XGBoost con Loss de Poisson\n",
    "\n",
    "## Características del modelo:\n",
    "- **Loss Function**: Poisson (ideal para conteos)\n",
    "- **Split**: Temporal (no random, evita data leakage)\n",
    "- **Features**: Solo información disponible antes de T\n",
    "- **Objetivo**: Predecir `N_arribos_intervalo`\n"
   ]
  },
  {
   "cell_type": "code",
   "execution_count": 7,
   "metadata": {},
   "outputs": [
    {
     "name": "stdout",
     "output_type": "stream",
     "text": [
      "✅ Usando datos ya procesados\n",
      "Dataset para modelo: (12785807, 77)\n",
      "Variable objetivo stats: min=0.0, max=36.0\n"
     ]
    }
   ],
   "source": [
    "# Entrenar modelo XGBoost\n",
    "from src.train_model import BikeXGBoostTrainer\n",
    "\n",
    "# Verificar que tenemos datos procesados\n",
    "if 'df_processed' in locals():\n",
    "    print(\"✅ Usando datos ya procesados\")\n",
    "    df_model = df_processed\n",
    "else:\n",
    "    print(\"📁 Cargando datos procesados...\")\n",
    "    df_model = pd.read_csv(OUTPUT_FILE if USE_SAMPLE else OUTPUT_FILE)\n",
    "\n",
    "print(f\"Dataset para modelo: {df_model.shape}\")\n",
    "print(f\"Variable objetivo stats: min={df_model['N_arribos_intervalo'].min()}, max={df_model['N_arribos_intervalo'].max()}\")\n"
   ]
  },
  {
   "cell_type": "code",
   "execution_count": 8,
   "metadata": {},
   "outputs": [
    {
     "name": "stdout",
     "output_type": "stream",
     "text": [
      "Features válidas identificadas: 63\n",
      "Features del futuro excluidas: 14\n",
      "\n",
      "🔒 Features válidas (sin data leakage): 63\n",
      "Algunos ejemplos: ['id_recorrido', 'duracion_recorrido', 'id_estacion_origen', 'id_estacion_destino', 'id_usuario', 'modelo_bicicleta', 'estacion_referencia', 'año_origen', 'mes_origen', 'dia_origen']\n",
      "❌ año_destino - EXCLUIDA (información del futuro)\n",
      "❌ mes_destino - EXCLUIDA (información del futuro)\n",
      "❌ dia_destino - EXCLUIDA (información del futuro)\n",
      "❌ hora_destino - EXCLUIDA (información del futuro)\n",
      "❌ fecha_intervalo - EXCLUIDA (información del futuro)\n",
      "❌ N_salidas_intervalo - EXCLUIDA (información del futuro)\n"
     ]
    }
   ],
   "source": [
    "# Crear y configurar entrenador\n",
    "trainer = BikeXGBoostTrainer(poisson_max_delta_step=0.7)\n",
    "\n",
    "# Verificar features que se van a usar (sin information leakage)\n",
    "sample_features = trainer.identify_valid_features(df_model)\n",
    "print(f\"\\n🔒 Features válidas (sin data leakage): {len(sample_features)}\")\n",
    "print(\"Algunos ejemplos:\", sample_features[:10])\n",
    "\n",
    "# Verificar features excluidas\n",
    "excluded = ['año_destino', 'mes_destino', 'dia_destino', 'hora_destino', 'fecha_intervalo', 'N_salidas_intervalo']\n",
    "for col in excluded:\n",
    "    if col in df_model.columns:\n",
    "        print(f\"❌ {col} - EXCLUIDA (información del futuro)\")\n",
    "    else:\n",
    "        print(f\"⚠️  {col} - No encontrada\")\n"
   ]
  },
  {
   "cell_type": "code",
   "execution_count": 9,
   "metadata": {},
   "outputs": [
    {
     "name": "stdout",
     "output_type": "stream",
     "text": [
      "🎯 Parámetros configurados para XGBoost con Poisson\n",
      "   Objetivo: Predecir conteos de arribos\n",
      "   Split: Temporal (evita data leakage)\n",
      "   Features: Solo información histórica\n"
     ]
    }
   ],
   "source": [
    "# Configurar parámetros del modelo XGBoost con Poisson\n",
    "model_params = {\n",
    "    'objective': 'count:poisson',      # Loss de Poisson para conteos\n",
    "    'eval_metric': 'poisson-nloglik',  # Métrica de evaluación\n",
    "    'max_depth': 6,\n",
    "    'learning_rate': 0.1,\n",
    "    'subsample': 0.8,\n",
    "    'colsample_bytree': 0.8,\n",
    "    'min_child_weight': 3,\n",
    "    'gamma': 0.1,\n",
    "    'random_state': 42,\n",
    "    'n_jobs': -1,\n",
    "    'max_delta_step': 0.7,  # Importante para Poisson\n",
    "    'tree_method': 'gpu_hist'  # Usar GPU para entrenamiento\n",
    "}\n",
    "\n",
    "print(\"🎯 Parámetros configurados para XGBoost con Poisson\")\n",
    "print(\"   Objetivo: Predecir conteos de arribos\")\n",
    "print(\"   Split: Temporal (evita data leakage)\")\n",
    "print(\"   Features: Solo información histórica\")\n"
   ]
  },
  {
   "cell_type": "code",
   "execution_count": 10,
   "metadata": {},
   "outputs": [
    {
     "name": "stdout",
     "output_type": "stream",
     "text": [
      "🚀 Iniciando entrenamiento...\n",
      "⏰ Esto puede tomar unos minutos...\n",
      "=== INICIANDO ENTRENAMIENTO XGBOOST ===\n",
      "Split temporal realizado:\n",
      "  Train: 8,950,064 filas (70.0%)\n",
      "  Val:   1,917,871 filas (15.0%)\n",
      "  Test:  1,917,872 filas (15.0%)\n",
      "  Fechas train: 2020-01-01 00:00:00 a 2023-04-05 13:00:00\n",
      "  Fechas test:  2024-01-06 22:30:00 a 2024-09-14 16:30:00\n",
      "Features válidas identificadas: 63\n",
      "Features del futuro excluidas: 14\n",
      "Datos preparados: 8950064 filas, 63 features\n",
      "Target stats: min=0.0, max=36.0, mean=2.84\n",
      "Features válidas identificadas: 63\n",
      "Features del futuro excluidas: 14\n",
      "Datos preparados: 1917871 filas, 63 features\n",
      "Target stats: min=0.0, max=21.0, mean=2.47\n",
      "Features válidas identificadas: 63\n",
      "Features del futuro excluidas: 14\n",
      "Datos preparados: 1917872 filas, 63 features\n",
      "Target stats: min=1.0, max=26.0, mean=2.60\n",
      "Entrenando XGBoost...\n",
      "[0]\ttrain-poisson-nloglik:3.73063\teval-poisson-nloglik:3.20612\n",
      "[100]\ttrain-poisson-nloglik:1.51856\teval-poisson-nloglik:1.44912\n",
      "[200]\ttrain-poisson-nloglik:1.51466\teval-poisson-nloglik:1.44585\n",
      "[300]\ttrain-poisson-nloglik:1.51252\teval-poisson-nloglik:1.44405\n",
      "[400]\ttrain-poisson-nloglik:1.51101\teval-poisson-nloglik:1.44280\n",
      "[500]\ttrain-poisson-nloglik:1.50972\teval-poisson-nloglik:1.44182\n",
      "[600]\ttrain-poisson-nloglik:1.50864\teval-poisson-nloglik:1.44103\n",
      "[700]\ttrain-poisson-nloglik:1.50770\teval-poisson-nloglik:1.44038\n",
      "[800]\ttrain-poisson-nloglik:1.50678\teval-poisson-nloglik:1.43966\n",
      "[900]\ttrain-poisson-nloglik:1.50611\teval-poisson-nloglik:1.43919\n",
      "[999]\ttrain-poisson-nloglik:1.50544\teval-poisson-nloglik:1.43871\n",
      "\n",
      "=== RESULTADOS DEL ENTRENAMIENTO ===\n",
      "RMSE - Train: 0.8493, Val: 0.7816, Test: 0.8932\n",
      "MAE  - Train: 0.4911, Val: 0.4533, Test: 0.5018\n",
      "R2   - Train: 0.8484, Val: 0.8121, Test: 0.7930\n",
      "✅ Entrenamiento completado!\n",
      "📊 Resultados finales:\n",
      "   - Test RMSE: 0.8932\n",
      "   - Test MAE:  0.5018\n",
      "❌ Error durante entrenamiento: 'test_r2'\n"
     ]
    },
    {
     "name": "stderr",
     "output_type": "stream",
     "text": [
      "Traceback (most recent call last):\n",
      "  File \"C:\\Users\\Matteo\\AppData\\Local\\Temp\\ipykernel_10960\\4151138894.py\", line 15, in <module>\n",
      "    print(f\"   - Test R2:  {results['test_r2']:.4f}\")\n",
      "KeyError: 'test_r2'\n"
     ]
    }
   ],
   "source": [
    "# ENTRENAR MODELO\n",
    "# NOTA: Esto puede tomar varios minutos dependiendo del tamaño del dataset\n",
    "\n",
    "print(\"🚀 Iniciando entrenamiento...\")\n",
    "print(\"⏰ Esto puede tomar unos minutos...\")\n",
    "\n",
    "try:\n",
    "    # Entrenar con split temporal automático\n",
    "    results, test_data = trainer.train(df_model, model_params)\n",
    "    \n",
    "    print(\"✅ Entrenamiento completado!\")\n",
    "    print(f\"📊 Resultados finales:\")\n",
    "    print(f\"   - Test RMSE: {results['test_rmse']:.4f}\")\n",
    "    print(f\"   - Test MAE:  {results['test_mae']:.4f}\")\n",
    "    print(f\"   - Test R2:  {results['test_r2']:.4f}\")\n",
    "    print(f\"   - Features:  {results['n_features']}\")\n",
    "    \n",
    "except Exception as e:\n",
    "    print(f\"❌ Error durante entrenamiento: {str(e)}\")\n",
    "    # Para debugging\n",
    "    import traceback\n",
    "    traceback.print_exc()\n"
   ]
  },
  {
   "cell_type": "code",
   "execution_count": 11,
   "metadata": {},
   "outputs": [
    {
     "name": "stdout",
     "output_type": "stream",
     "text": [
      "\n",
      "=== FEATURE IMPORTANCE ===\n",
      "✅ Top 20 features más importantes graficadas\n"
     ]
    },
    {
     "data": {
      "image/png": "[encoded data removed]",
      "text/plain": [
       "<Figure size 1200x600 with 1 Axes>"
      ]
     },
     "metadata": {},
     "output_type": "display_data"
    }
   ],
   "source": [
    "# Graficar feature importance\n",
    "print(\"\\n=== FEATURE IMPORTANCE ===\")\n",
    "\n",
    "# Obtener importancia de features\n",
    "importance = trainer.model.get_score(importance_type='weight')\n",
    "sorted_importance = sorted(importance.items(), key=lambda x: x[1], reverse=True)\n",
    "\n",
    "# Convertir a DataFrame para graficar\n",
    "import matplotlib.pyplot as plt\n",
    "import seaborn as sns\n",
    "\n",
    "df_importance = pd.DataFrame(sorted_importance[:20], columns=['Feature', 'Importance'])\n",
    "\n",
    "# Crear gráfico\n",
    "plt.figure(figsize=(12, 6))\n",
    "sns.barplot(data=df_importance, x='Importance', y='Feature')\n",
    "plt.title('Top 20 Features más Importantes')\n",
    "plt.xlabel('Importancia')\n",
    "plt.ylabel('Feature')\n",
    "\n",
    "# Rotar labels para mejor visualización\n",
    "plt.xticks(rotation=45)\n",
    "plt.tight_layout()\n",
    "\n",
    "print(\"✅ Top 20 features más importantes graficadas\")\n"
   ]
  }
 ],
 "metadata": {
  "kernelspec": {
   "display_name": "mldl_clean",
   "language": "python",
   "name": "python3"
  },
  "language_info": {
   "codemirror_mode": {
    "name": "ipython",
    "version": 3
   },
   "file_extension": ".py",
   "mimetype": "text/x-python",
   "name": "python",
   "nbconvert_exporter": "python",
   "pygments_lexer": "ipython3",
   "version": "3.10.18"
  }
 },
 "nbformat": 4,
 "nbformat_minor": 2
}
