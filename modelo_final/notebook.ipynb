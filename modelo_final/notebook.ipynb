{
 "cells": [
  {
   "cell_type": "markdown",
   "metadata": {},
   "source": [
    "\n",
    "# Pipeline de Feature Engineering para Predicción de Arribos de Bicicletas\n",
    "\n",
    "## Objetivo\n",
    "Transformar datos de recorridos en features para predecir arribos en intervalos de 30 minutos.\n",
    "\n",
    "### Datos de Entrada:\n",
    "- `id_recorrido`, `duracion_recorrido`, `id_estacion_origen`, `nombre_estacion_origen`, etc.\n",
    "\n",
    "### Datos de Salida:\n",
    "- Features engineered para ML: clusters geográficos, ventanas temporales, features históricas (prev_n)\n",
    "- Variable objetivo: `N_arribos_intervalo`\n",
    "\n",
    "### Sin Data Leakage\n",
    "Para predecir arribos en [T, T+30] solo usa información conocida antes de T.\n"
   ]
  },
  {
   "cell_type": "code",
   "execution_count": 13,
   "metadata": {},
   "outputs": [
    {
     "name": "stdout",
     "output_type": "stream",
     "text": [
      "The autoreload extension is already loaded. To reload it, use:\n",
      "  %reload_ext autoreload\n"
     ]
    }
   ],
   "source": [
    "%load_ext autoreload\n",
    "%autoreload 2"
   ]
  },
  {
   "cell_type": "code",
   "execution_count": 14,
   "metadata": {},
   "outputs": [],
   "source": [
    "import sys\n",
    "import os\n",
    "sys.path.append('src')\n",
    "\n",
    "import pandas as pd\n",
    "import numpy as np\n",
    "from src.feature_engineering import BikeFeatureEngineering\n",
    "\n",
    "# Configuración\n",
    "INPUT_FILE = '../data/processed/trips_enriched.csv'\n",
    "OUTPUT_FILE = '../data/processed/trips_final_features.csv'\n"
   ]
  },
  {
   "cell_type": "code",
   "execution_count": 15,
   "metadata": {},
   "outputs": [
    {
     "name": "stdout",
     "output_type": "stream",
     "text": [
      "✅ Archivo de entrada encontrado\n",
      "Columnas de entrada: 20\n",
      "Primeras columnas: ['id_recorrido', 'duracion_recorrido', 'id_estacion_origen', 'nombre_estacion_origen', 'direccion_estacion_origen', 'long_estacion_origen', 'lat_estacion_origen', 'id_estacion_destino', 'nombre_estacion_destino', 'direccion_estacion_destino']\n"
     ]
    }
   ],
   "source": [
    "# Verificar datos de entrada\n",
    "if os.path.exists(INPUT_FILE):\n",
    "    print(\"✅ Archivo de entrada encontrado\")\n",
    "    \n",
    "    # Leer solo el header para verificar columnas\n",
    "    df_sample = pd.read_csv(INPUT_FILE, nrows=1)\n",
    "    print(f\"Columnas de entrada: {len(df_sample.columns)}\")\n",
    "    print(\"Primeras columnas:\", list(df_sample.columns[:10]))\n",
    "else:\n",
    "    print(\"❌ Archivo de entrada no encontrado\")\n"
   ]
  },
  {
   "cell_type": "code",
   "execution_count": 16,
   "metadata": {},
   "outputs": [
    {
     "name": "stdout",
     "output_type": "stream",
     "text": [
      "🚀 Iniciando feature engineering...\n"
     ]
    }
   ],
   "source": [
    "# Ejecutar pipeline de feature engineering\n",
    "print(\"🚀 Iniciando feature engineering...\")\n",
    "\n",
    "fe = BikeFeatureEngineering(\n",
    "    time_window_minutes=30,  # Intervalos de 30 minutos\n",
    "    n_clusters=16           # 16 clusters geográficos\n",
    ")\n",
    "\n",
    "# NOTA: Esto puede tomar varios minutos con el dataset completo\n",
    "# Para pruebas rápidas, considera usar una muestra más pequeña\n"
   ]
  },
  {
   "cell_type": "code",
   "execution_count": 17,
   "metadata": {},
   "outputs": [
    {
     "name": "stdout",
     "output_type": "stream",
     "text": [
      "=== INICIANDO FEATURE ENGINEERING ===\n",
      "Cargando dataset...\n",
      "Dataset cargado: (12785807, 20)\n",
      "Creando ventanas temporales...\n",
      "Creando clusters geográficos...\n",
      "Creando features básicas...\n",
      "Calculando conteos por intervalo...\n",
      "Creando features históricas...\n",
      "Seleccionando features finales...\n",
      "Guardando dataset transformado: ../data/processed/trips_final_features.csv\n",
      "=== FEATURE ENGINEERING COMPLETADO ===\n",
      "Dataset final: (12785807, 77)\n",
      "Columnas: 77\n"
     ]
    }
   ],
   "source": [
    "# Para testear con muestra pequeña (opcional)\n",
    "USE_SAMPLE = False  # Cambiar a False para dataset completo\n",
    "\n",
    "if USE_SAMPLE:\n",
    "    print(\"⚡ Usando muestra pequeña para testing\")\n",
    "    # Crear muestra de 10,000 filas para pruebas rápidas\n",
    "    df_full = pd.read_csv(INPUT_FILE, nrows=15000000)\n",
    "    sample_file = '../data/processed/trips_sample.csv'\n",
    "    df_full.to_csv(sample_file, index=False)\n",
    "    \n",
    "    # Procesar muestra\n",
    "    df_processed = fe.transform(sample_file, sample_file.replace('.csv', '_features.csv'))\n",
    "else:\n",
    "    # Procesar dataset completo\n",
    "    df_processed = fe.transform(INPUT_FILE, OUTPUT_FILE)\n"
   ]
  },
  {
   "cell_type": "code",
   "execution_count": 18,
   "metadata": {},
   "outputs": [
    {
     "name": "stdout",
     "output_type": "stream",
     "text": [
      "📊 Resultados del feature engineering:\n",
      "Shape final: (12785807, 77)\n",
      "Columnas generadas: 77\n",
      "\n",
      "Primeras columnas: ['id_recorrido', 'duracion_recorrido', 'id_estacion_origen', 'id_estacion_destino', 'id_usuario', 'modelo_bicicleta', 'dia_semana', 'es_finde', 'estacion_del_año', 'edad_usuario']\n",
      "\n",
      "Últimas columnas: ['N_ARRIBOS_prev_2', 'N_SALIDAS_prev_2', 'N_ARRIBOS_prev_3', 'N_SALIDAS_prev_3', 'N_ARRIBOS_prev_4', 'N_SALIDAS_prev_4', 'N_ARRIBOS_prev_5', 'N_SALIDAS_prev_5', 'N_ARRIBOS_prev_6', 'N_SALIDAS_prev_6']\n",
      "\n",
      "Variable objetivo N_arribos_intervalo:\n",
      "  - Valores únicos: 36\n",
      "  - Rango: 0.0 - 36.0\n",
      "  - Media: 2.75\n",
      "  - Nulls: 0\n"
     ]
    }
   ],
   "source": [
    "# Verificar resultados\n",
    "print(\"📊 Resultados del feature engineering:\")\n",
    "print(f\"Shape final: {df_processed.shape}\")\n",
    "print(f\"Columnas generadas: {len(df_processed.columns)}\")\n",
    "print(\"\\nPrimeras columnas:\", list(df_processed.columns[:10]))\n",
    "print(\"\\nÚltimas columnas:\", list(df_processed.columns[-10:]))\n",
    "\n",
    "# Verificar variable objetivo\n",
    "print(f\"\\nVariable objetivo N_arribos_intervalo:\")\n",
    "print(f\"  - Valores únicos: {df_processed['N_arribos_intervalo'].nunique()}\")\n",
    "print(f\"  - Rango: {df_processed['N_arribos_intervalo'].min()} - {df_processed['N_arribos_intervalo'].max()}\")\n",
    "print(f\"  - Media: {df_processed['N_arribos_intervalo'].mean():.2f}\")\n",
    "print(f\"  - Nulls: {df_processed['N_arribos_intervalo'].isna().sum()}\")\n"
   ]
  },
  {
   "cell_type": "markdown",
   "metadata": {
    "vscode": {
     "languageId": "raw"
    }
   },
   "source": [
    "# Entrenamiento XGBoost con Loss de Poisson\n",
    "\n",
    "## Características del modelo:\n",
    "- **Loss Function**: Poisson (ideal para conteos)\n",
    "- **Split**: Temporal (no random, evita data leakage)\n",
    "- **Features**: Solo información disponible antes de T\n",
    "- **Objetivo**: Predecir `N_arribos_intervalo`\n"
   ]
  },
  {
   "cell_type": "code",
   "execution_count": 19,
   "metadata": {},
   "outputs": [
    {
     "name": "stdout",
     "output_type": "stream",
     "text": [
      "✅ Usando datos ya procesados\n",
      "Dataset para modelo: (12785807, 77)\n",
      "Variable objetivo stats: min=0.0, max=36.0\n"
     ]
    }
   ],
   "source": [
    "# Entrenar modelo XGBoost\n",
    "from src.train_model import BikeXGBoostTrainer\n",
    "\n",
    "# Verificar que tenemos datos procesados\n",
    "if 'df_processed' in locals():\n",
    "    print(\"✅ Usando datos ya procesados\")\n",
    "    df_model = df_processed\n",
    "else:\n",
    "    print(\"📁 Cargando datos procesados...\")\n",
    "    df_model = pd.read_csv(OUTPUT_FILE if USE_SAMPLE else OUTPUT_FILE)\n",
    "\n",
    "print(f\"Dataset para modelo: {df_model.shape}\")\n",
    "print(f\"Variable objetivo stats: min={df_model['N_arribos_intervalo'].min()}, max={df_model['N_arribos_intervalo'].max()}\")\n"
   ]
  },
  {
   "cell_type": "code",
   "execution_count": 20,
   "metadata": {},
   "outputs": [
    {
     "name": "stdout",
     "output_type": "stream",
     "text": [
      "Features válidas identificadas: 61\n",
      "Features del futuro excluidas: 16\n",
      "\n",
      "🔒 Features válidas (sin data leakage): 61\n",
      "Algunos ejemplos: ['id_recorrido', 'id_estacion_origen', 'id_usuario', 'modelo_bicicleta', 'estacion_referencia', 'año_origen', 'mes_origen', 'dia_origen', 'hora_origen', 'minuto_origen']\n",
      "❌ año_destino - EXCLUIDA (información del futuro)\n",
      "❌ mes_destino - EXCLUIDA (información del futuro)\n",
      "❌ dia_destino - EXCLUIDA (información del futuro)\n",
      "❌ hora_destino - EXCLUIDA (información del futuro)\n",
      "❌ fecha_intervalo - EXCLUIDA (información del futuro)\n",
      "❌ N_salidas_intervalo - EXCLUIDA (información del futuro)\n"
     ]
    }
   ],
   "source": [
    "# Crear y configurar entrenador\n",
    "trainer = BikeXGBoostTrainer(poisson_max_delta_step=0.7)\n",
    "\n",
    "# Verificar features que se van a usar (sin information leakage)\n",
    "sample_features = trainer.identify_valid_features(df_model)\n",
    "print(f\"\\n🔒 Features válidas (sin data leakage): {len(sample_features)}\")\n",
    "print(\"Algunos ejemplos:\", sample_features[:10])\n",
    "\n",
    "# Verificar features excluidas\n",
    "excluded = ['año_destino', 'mes_destino', 'dia_destino', 'hora_destino', 'fecha_intervalo', 'N_salidas_intervalo']\n",
    "for col in excluded:\n",
    "    if col in df_model.columns:\n",
    "        print(f\"❌ {col} - EXCLUIDA (información del futuro)\")\n",
    "    else:\n",
    "        print(f\"⚠️  {col} - No encontrada\")\n"
   ]
  },
  {
   "cell_type": "code",
   "execution_count": 21,
   "metadata": {},
   "outputs": [
    {
     "name": "stdout",
     "output_type": "stream",
     "text": [
      "🎯 Parámetros configurados para XGBoost con Poisson\n",
      "   Objetivo: Predecir conteos de arribos\n",
      "   Split: Temporal (evita data leakage)\n",
      "   Features: Solo información histórica\n"
     ]
    }
   ],
   "source": [
    "# Configurar parámetros del modelo XGBoost con Poisson\n",
    "model_params = {\n",
    "    'objective': 'count:poisson',      # Loss de Poisson para conteos\n",
    "    'eval_metric': 'poisson-nloglik',  # Métrica de evaluación\n",
    "    'max_depth': 6,\n",
    "    'learning_rate': 0.1,\n",
    "    'subsample': 0.8,\n",
    "    'colsample_bytree': 0.8,\n",
    "    'min_child_weight': 3,\n",
    "    'gamma': 0.1,\n",
    "    'random_state': 42,\n",
    "    'n_jobs': -1,\n",
    "    'max_delta_step': 0.7,  # Importante para Poisson\n",
    "    'tree_method': 'gpu_hist'  # Usar GPU para entrenamiento\n",
    "}\n",
    "\n",
    "print(\"🎯 Parámetros configurados para XGBoost con Poisson\")\n",
    "print(\"   Objetivo: Predecir conteos de arribos\")\n",
    "print(\"   Split: Temporal (evita data leakage)\")\n",
    "print(\"   Features: Solo información histórica\")\n"
   ]
  },
  {
   "cell_type": "code",
   "execution_count": 22,
   "metadata": {},
   "outputs": [
    {
     "name": "stdout",
     "output_type": "stream",
     "text": [
      "🚀 Iniciando entrenamiento...\n",
      "⏰ Esto puede tomar unos minutos...\n",
      "=== INICIANDO ENTRENAMIENTO XGBOOST ===\n",
      "Split temporal realizado:\n",
      "  Train: 8,950,064 filas (70.0%)\n",
      "  Val:   1,917,871 filas (15.0%)\n",
      "  Test:  1,917,872 filas (15.0%)\n",
      "  Fechas train: 2020-01-01 00:00:00 a 2023-04-05 13:00:00\n",
      "  Fechas test:  2024-01-06 22:30:00 a 2024-09-14 16:30:00\n",
      "Features válidas identificadas: 61\n",
      "Features del futuro excluidas: 16\n",
      "Datos preparados: 8950064 filas, 61 features\n",
      "Target stats: min=0.0, max=36.0, mean=2.84\n",
      "Features válidas identificadas: 61\n",
      "Features del futuro excluidas: 16\n",
      "Datos preparados: 1917871 filas, 61 features\n",
      "Target stats: min=0.0, max=21.0, mean=2.47\n",
      "Features válidas identificadas: 61\n",
      "Features del futuro excluidas: 16\n",
      "Datos preparados: 1917872 filas, 61 features\n",
      "Target stats: min=1.0, max=26.0, mean=2.60\n",
      "Entrenando XGBoost...\n",
      "[0]\ttrain-poisson-nloglik:3.73074\teval-poisson-nloglik:3.20620\n",
      "[100]\ttrain-poisson-nloglik:1.51754\teval-poisson-nloglik:1.44797\n",
      "[200]\ttrain-poisson-nloglik:1.51436\teval-poisson-nloglik:1.44541\n",
      "[300]\ttrain-poisson-nloglik:1.51252\teval-poisson-nloglik:1.44405\n",
      "[400]\ttrain-poisson-nloglik:1.51115\teval-poisson-nloglik:1.44303\n",
      "[500]\ttrain-poisson-nloglik:1.50998\teval-poisson-nloglik:1.44214\n",
      "[600]\ttrain-poisson-nloglik:1.50905\teval-poisson-nloglik:1.44148\n",
      "[700]\ttrain-poisson-nloglik:1.50818\teval-poisson-nloglik:1.44082\n",
      "[800]\ttrain-poisson-nloglik:1.50746\teval-poisson-nloglik:1.44032\n",
      "[900]\ttrain-poisson-nloglik:1.50680\teval-poisson-nloglik:1.43985\n",
      "[999]\ttrain-poisson-nloglik:1.50624\teval-poisson-nloglik:1.43947\n",
      "\n",
      "=== RESULTADOS DEL ENTRENAMIENTO ===\n",
      "RMSE - Train: 0.8557, Val: 0.7866, Test: 0.9029\n",
      "MAE  - Train: 0.4924, Val: 0.4538, Test: 0.5048\n",
      "R2   - Train: 0.8461, Val: 0.8097, Test: 0.7885\n",
      "✅ Entrenamiento completado!\n",
      "📊 Resultados finales:\n",
      "   - Test RMSE: 0.9029\n",
      "   - Test MAE:  0.5048\n",
      "   - Test R2:  0.7885\n",
      "   - Features:  61\n"
     ]
    }
   ],
   "source": [
    "# ENTRENAR MODELO\n",
    "# NOTA: Esto puede tomar varios minutos dependiendo del tamaño del dataset\n",
    "\n",
    "print(\"🚀 Iniciando entrenamiento...\")\n",
    "print(\"⏰ Esto puede tomar unos minutos...\")\n",
    "\n",
    "try:\n",
    "    # Entrenar con split temporal automático\n",
    "    results, test_data = trainer.train(df_model, model_params)\n",
    "    \n",
    "    print(\"✅ Entrenamiento completado!\")\n",
    "    print(f\"📊 Resultados finales:\")\n",
    "    print(f\"   - Test RMSE: {results['test_rmse']:.4f}\")\n",
    "    print(f\"   - Test MAE:  {results['test_mae']:.4f}\")\n",
    "    print(f\"   - Test R2:  {results['test_r2']:.4f}\")\n",
    "    print(f\"   - Features:  {results['n_features']}\")\n",
    "    \n",
    "except Exception as e:\n",
    "    print(f\"❌ Error durante entrenamiento: {str(e)}\")\n",
    "    # Para debugging\n",
    "    import traceback\n",
    "    traceback.print_exc()\n"
   ]
  },
  {
   "cell_type": "code",
   "execution_count": 23,
   "metadata": {},
   "outputs": [
    {
     "name": "stdout",
     "output_type": "stream",
     "text": [
      "\n",
      "=== FEATURE IMPORTANCE ===\n",
      "✅ Top 20 features más importantes graficadas\n"
     ]
    },
    {
     "data": {
      "image/png": "[encoded data removed]",
      "text/plain": [
       "<Figure size 1200x600 with 1 Axes>"
      ]
     },
     "metadata": {},
     "output_type": "display_data"
    }
   ],
   "source": [
    "# Graficar feature importance\n",
    "print(\"\\n=== FEATURE IMPORTANCE ===\")\n",
    "\n",
    "# Obtener importancia de features\n",
    "importance = trainer.model.get_score(importance_type='weight')\n",
    "sorted_importance = sorted(importance.items(), key=lambda x: x[1], reverse=True)\n",
    "\n",
    "# Convertir a DataFrame para graficar\n",
    "import matplotlib.pyplot as plt\n",
    "import seaborn as sns\n",
    "\n",
    "df_importance = pd.DataFrame(sorted_importance[:20], columns=['Feature', 'Importance'])\n",
    "\n",
    "# Crear gráfico\n",
    "plt.figure(figsize=(12, 6))\n",
    "sns.barplot(data=df_importance, x='Importance', y='Feature')\n",
    "plt.title('Top 20 Features más Importantes')\n",
    "plt.xlabel('Importancia')\n",
    "plt.ylabel('Feature')\n",
    "\n",
    "# Rotar labels para mejor visualización\n",
    "plt.xticks(rotation=45)\n",
    "plt.tight_layout()\n",
    "\n",
    "print(\"✅ Top 20 features más importantes graficadas\")\n"
   ]
  },
  {
   "cell_type": "markdown",
   "metadata": {
    "vscode": {
     "languageId": "raw"
    }
   },
   "source": [
    "# Entrenamiento de Modelos Adicionales\n",
    "\n",
    "## Random Forest y MLP\n",
    "\n",
    "Ahora vamos a entrenar dos modelos adicionales para comparar con XGBoost:\n",
    "- **Random Forest**: Ensemble robusto para problemas de regresión\n",
    "- **MLP**: Red neuronal para capturar patrones no lineales complejos\n"
   ]
  },
  {
   "cell_type": "code",
   "execution_count": 26,
   "metadata": {},
   "outputs": [
    {
     "name": "stdout",
     "output_type": "stream",
     "text": [
      "🚀 Preparando datos para los modelos adicionales...\n",
      "\n",
      "Split temporal realizado:\n",
      "  Train: 8,950,064 filas (70.0%)\n",
      "  Val:   1,917,871 filas (15.0%)\n",
      "  Test:  1,917,872 filas (15.0%)\n",
      "  Fechas train: 2020-01-01 00:00:00 a 2023-04-05 13:00:00\n",
      "  Fechas test:  2024-01-06 22:30:00 a 2024-09-14 16:30:00\n",
      "Features válidas identificadas: 61\n",
      "Features del futuro excluidas: 16\n",
      "Datos preparados: 8950064 filas, 61 features\n",
      "Target stats: min=0.0, max=36.0, mean=2.84\n",
      "Features válidas identificadas: 61\n",
      "Features del futuro excluidas: 16\n",
      "Datos preparados: 1917871 filas, 61 features\n",
      "Target stats: min=0.0, max=21.0, mean=2.47\n",
      "Features válidas identificadas: 61\n",
      "Features del futuro excluidas: 16\n",
      "Datos preparados: 1917872 filas, 61 features\n",
      "Target stats: min=1.0, max=26.0, mean=2.60\n",
      "Datos preparados: 61 features\n",
      "\n",
      "🌳 Entrenando Random Forest...\n"
     ]
    },
    {
     "name": "stderr",
     "output_type": "stream",
     "text": [
      "[Parallel(n_jobs=-1)]: Using backend ThreadingBackend with 16 concurrent workers.\n",
      "[Parallel(n_jobs=-1)]: Done  18 tasks      | elapsed:  2.9min\n",
      "[Parallel(n_jobs=-1)]: Done 100 out of 100 | elapsed: 10.8min finished\n"
     ]
    },
    {
     "name": "stdout",
     "output_type": "stream",
     "text": [
      "✅ Random Forest entrenado!\n"
     ]
    },
    {
     "name": "stderr",
     "output_type": "stream",
     "text": [
      "[Parallel(n_jobs=16)]: Using backend ThreadingBackend with 16 concurrent workers.\n",
      "[Parallel(n_jobs=16)]: Done  18 tasks      | elapsed:    3.6s\n",
      "[Parallel(n_jobs=16)]: Done 100 out of 100 | elapsed:   14.5s finished\n",
      "[Parallel(n_jobs=16)]: Using backend ThreadingBackend with 16 concurrent workers.\n",
      "[Parallel(n_jobs=16)]: Done  18 tasks      | elapsed:    0.6s\n",
      "[Parallel(n_jobs=16)]: Done 100 out of 100 | elapsed:    3.0s finished\n",
      "[Parallel(n_jobs=16)]: Using backend ThreadingBackend with 16 concurrent workers.\n",
      "[Parallel(n_jobs=16)]: Done  18 tasks      | elapsed:    0.7s\n",
      "[Parallel(n_jobs=16)]: Done 100 out of 100 | elapsed:    3.3s finished\n"
     ]
    },
    {
     "name": "stdout",
     "output_type": "stream",
     "text": [
      "\n",
      "📊 Resultados Random Forest:\n",
      "   - Test RMSE: 0.9323\n",
      "   - Test MAE:  0.6186\n",
      "   - Test R2:   0.7745\n",
      "\n",
      "🧠 Entrenando MLP...\n",
      "📊 Normalizando features...\n",
      "Iteration 1, loss = 0.40648067\n",
      "Validation score: 0.845154\n",
      "Iteration 2, loss = 0.37508951\n",
      "Validation score: 0.845429\n",
      "Iteration 3, loss = 0.36899717\n",
      "Validation score: 0.849752\n",
      "Iteration 4, loss = 0.36537658\n",
      "Validation score: 0.851382\n",
      "Iteration 5, loss = 0.36336721\n",
      "Validation score: 0.851142\n",
      "Iteration 6, loss = 0.36184243\n",
      "Validation score: 0.852410\n",
      "Iteration 7, loss = 0.36093404\n",
      "Validation score: 0.850473\n",
      "Iteration 8, loss = 0.36003487\n",
      "Validation score: 0.850866\n",
      "Iteration 9, loss = 0.35951889\n",
      "Validation score: 0.852591\n",
      "Iteration 10, loss = 0.35894551\n",
      "Validation score: 0.852747\n",
      "Iteration 11, loss = 0.35856045\n",
      "Validation score: 0.853479\n",
      "Iteration 12, loss = 0.35810042\n",
      "Validation score: 0.853972\n",
      "Iteration 13, loss = 0.35773839\n",
      "Validation score: 0.853716\n",
      "Iteration 14, loss = 0.35739700\n",
      "Validation score: 0.854122\n",
      "Iteration 15, loss = 0.35708240\n",
      "Validation score: 0.853993\n",
      "Iteration 16, loss = 0.35674218\n",
      "Validation score: 0.854110\n",
      "Iteration 17, loss = 0.35646187\n",
      "Validation score: 0.852324\n",
      "Iteration 18, loss = 0.35624126\n",
      "Validation score: 0.852650\n",
      "Iteration 19, loss = 0.35607950\n",
      "Validation score: 0.853951\n",
      "Iteration 20, loss = 0.35608032\n",
      "Validation score: 0.854920\n",
      "Iteration 21, loss = 0.35583074\n",
      "Validation score: 0.855293\n",
      "Iteration 22, loss = 0.35563388\n",
      "Validation score: 0.848779\n",
      "Iteration 23, loss = 0.35550336\n",
      "Validation score: 0.853901\n",
      "Iteration 24, loss = 0.35549715\n",
      "Validation score: 0.854629\n",
      "Iteration 25, loss = 0.35548508\n",
      "Validation score: 0.855563\n",
      "Iteration 26, loss = 0.35515791\n",
      "Validation score: 0.855410\n",
      "Iteration 27, loss = 0.35508615\n",
      "Validation score: 0.854251\n",
      "Iteration 28, loss = 0.35507181\n",
      "Validation score: 0.854231\n",
      "Iteration 29, loss = 0.35511685\n",
      "Validation score: 0.855730\n",
      "Iteration 30, loss = 0.35495492\n",
      "Validation score: 0.854338\n",
      "Iteration 31, loss = 0.35485273\n",
      "Validation score: 0.854136\n",
      "Iteration 32, loss = 0.35491506\n",
      "Validation score: 0.854599\n",
      "Iteration 33, loss = 0.35474826\n",
      "Validation score: 0.854349\n",
      "Iteration 34, loss = 0.35475796\n",
      "Validation score: 0.854225\n",
      "Iteration 35, loss = 0.35465524\n",
      "Validation score: 0.854980\n",
      "Iteration 36, loss = 0.35462469\n",
      "Validation score: 0.855629\n",
      "Iteration 37, loss = 0.35455253\n",
      "Validation score: 0.855466\n",
      "Iteration 38, loss = 0.35456879\n",
      "Validation score: 0.854373\n",
      "Iteration 39, loss = 0.35443349\n",
      "Validation score: 0.855337\n",
      "Iteration 40, loss = 0.35462842\n",
      "Validation score: 0.854673\n",
      "Iteration 41, loss = 0.35461198\n",
      "Validation score: 0.854968\n",
      "Iteration 42, loss = 0.35446981\n",
      "Validation score: 0.854767\n",
      "Iteration 43, loss = 0.35454559\n",
      "Validation score: 0.855452\n",
      "Iteration 44, loss = 0.35445441\n",
      "Validation score: 0.855023\n",
      "Iteration 45, loss = 0.35447415\n",
      "Validation score: 0.855299\n",
      "Iteration 46, loss = 0.35432680\n",
      "Validation score: 0.854351\n",
      "Iteration 47, loss = 0.35434070\n",
      "Validation score: 0.855229\n",
      "Iteration 48, loss = 0.35422357\n",
      "Validation score: 0.854793\n",
      "Iteration 49, loss = 0.35434641\n",
      "Validation score: 0.855646\n",
      "Iteration 50, loss = 0.35428351\n",
      "Validation score: 0.855768\n",
      "Validation score did not improve more than tol=0.000100 for 20 consecutive epochs. Stopping.\n",
      "✅ MLP entrenado!\n",
      "\n",
      "📊 Resultados MLP:\n",
      "   - Test RMSE: 0.9059\n",
      "   - Test MAE:  0.4905\n",
      "   - Test R2:   0.7871\n",
      "\n",
      "✅ Ambos modelos entrenados exitosamente!\n"
     ]
    }
   ],
   "source": [
    "# Entrenamiento de Random Forest y MLP\n",
    "from sklearn.ensemble import RandomForestRegressor\n",
    "from sklearn.neural_network import MLPRegressor\n",
    "from sklearn.preprocessing import StandardScaler\n",
    "from sklearn.metrics import mean_squared_error, mean_absolute_error, r2_score\n",
    "import numpy as np\n",
    "\n",
    "print(\"🚀 Preparando datos para los modelos adicionales...\\n\")\n",
    "\n",
    "# Usar el mismo split temporal que XGBoost\n",
    "train_df, val_df, test_df = trainer.temporal_split(df_model.copy())\n",
    "\n",
    "# Preparar datos con las mismas features que XGBoost\n",
    "X_train, y_train = trainer.prepare_data(train_df)\n",
    "X_val, y_val = trainer.prepare_data(val_df)\n",
    "X_test, y_test = trainer.prepare_data(test_df)\n",
    "\n",
    "print(f\"Datos preparados: {X_train.shape[1]} features\")\n",
    "\n",
    "# ================================\n",
    "# MODELO 2: RANDOM FOREST 🌳\n",
    "# ================================\n",
    "print(\"\\n🌳 Entrenando Random Forest...\")\n",
    "\n",
    "# Configurar Random Forest optimizado para conteos\n",
    "rf_model = RandomForestRegressor(\n",
    "    n_estimators=100,           # Número de árboles\n",
    "    max_depth=15,               # Profundidad máxima\n",
    "    min_samples_split=5,        # Mínimo de muestras para split\n",
    "    min_samples_leaf=2,         # Mínimo de muestras en hoja\n",
    "    max_features='sqrt',        # Features por árbol\n",
    "    random_state=42,\n",
    "    n_jobs=-1,                  # Usar todos los cores\n",
    "    verbose=1                   # Mostrar progreso\n",
    ")\n",
    "\n",
    "# Entrenar modelo\n",
    "rf_model.fit(X_train, y_train)\n",
    "print(\"✅ Random Forest entrenado!\")\n",
    "\n",
    "# Evaluar Random Forest\n",
    "y_train_pred_rf = rf_model.predict(X_train)\n",
    "y_val_pred_rf = rf_model.predict(X_val)\n",
    "y_test_pred_rf = rf_model.predict(X_test)\n",
    "\n",
    "# Calcular métricas Random Forest\n",
    "rf_results = {\n",
    "    'train_rmse': np.sqrt(mean_squared_error(y_train, y_train_pred_rf)),\n",
    "    'val_rmse': np.sqrt(mean_squared_error(y_val, y_val_pred_rf)),\n",
    "    'test_rmse': np.sqrt(mean_squared_error(y_test, y_test_pred_rf)),\n",
    "    'train_mae': mean_absolute_error(y_train, y_train_pred_rf),\n",
    "    'val_mae': mean_absolute_error(y_val, y_val_pred_rf),\n",
    "    'test_mae': mean_absolute_error(y_test, y_test_pred_rf),\n",
    "    'train_r2': r2_score(y_train, y_train_pred_rf),\n",
    "    'val_r2': r2_score(y_val, y_val_pred_rf),\n",
    "    'test_r2': r2_score(y_test, y_test_pred_rf)\n",
    "}\n",
    "\n",
    "print(f\"\\n📊 Resultados Random Forest:\")\n",
    "print(f\"   - Test RMSE: {rf_results['test_rmse']:.4f}\")\n",
    "print(f\"   - Test MAE:  {rf_results['test_mae']:.4f}\")\n",
    "print(f\"   - Test R2:   {rf_results['test_r2']:.4f}\")\n",
    "\n",
    "# ================================\n",
    "# MODELO 3: MLP 🧠\n",
    "# ================================\n",
    "print(f\"\\n🧠 Entrenando MLP...\")\n",
    "\n",
    "# Para MLP necesitamos normalizar los datos\n",
    "print(\"📊 Normalizando features...\")\n",
    "scaler = StandardScaler()\n",
    "X_train_scaled = scaler.fit_transform(X_train)\n",
    "X_val_scaled = scaler.transform(X_val)\n",
    "X_test_scaled = scaler.transform(X_test)\n",
    "\n",
    "# Configurar MLP para regresión\n",
    "mlp_model = MLPRegressor(\n",
    "    hidden_layer_sizes=(128, 64, 32),  # 3 capas ocultas\n",
    "    activation='relu',                  # Función de activación\n",
    "    solver='adam',                      # Optimizador\n",
    "    alpha=0.001,                       # Regularización L2\n",
    "    learning_rate='adaptive',          # Tasa de aprendizaje adaptativa\n",
    "    learning_rate_init=0.001,          # Tasa inicial\n",
    "    max_iter=500,                      # Máximo número de iteraciones\n",
    "    early_stopping=True,               # Parada temprana\n",
    "    validation_fraction=0.1,           # Fracción para validación interna\n",
    "    n_iter_no_change=20,              # Iteraciones sin mejora para parar\n",
    "    random_state=42,\n",
    "    verbose=True                       # Mostrar progreso\n",
    ")\n",
    "\n",
    "# Entrenar modelo\n",
    "mlp_model.fit(X_train_scaled, y_train)\n",
    "print(\"✅ MLP entrenado!\")\n",
    "\n",
    "# Evaluar MLP\n",
    "y_train_pred_mlp = mlp_model.predict(X_train_scaled)\n",
    "y_val_pred_mlp = mlp_model.predict(X_val_scaled)\n",
    "y_test_pred_mlp = mlp_model.predict(X_test_scaled)\n",
    "\n",
    "# Asegurar que las predicciones sean no negativas (son conteos)\n",
    "y_train_pred_mlp = np.maximum(0, y_train_pred_mlp)\n",
    "y_val_pred_mlp = np.maximum(0, y_val_pred_mlp)\n",
    "y_test_pred_mlp = np.maximum(0, y_test_pred_mlp)\n",
    "\n",
    "# Calcular métricas MLP\n",
    "mlp_results = {\n",
    "    'train_rmse': np.sqrt(mean_squared_error(y_train, y_train_pred_mlp)),\n",
    "    'val_rmse': np.sqrt(mean_squared_error(y_val, y_val_pred_mlp)),\n",
    "    'test_rmse': np.sqrt(mean_squared_error(y_test, y_test_pred_mlp)),\n",
    "    'train_mae': mean_absolute_error(y_train, y_train_pred_mlp),\n",
    "    'val_mae': mean_absolute_error(y_val, y_val_pred_mlp),\n",
    "    'test_mae': mean_absolute_error(y_test, y_test_pred_mlp),\n",
    "    'train_r2': r2_score(y_train, y_train_pred_mlp),\n",
    "    'val_r2': r2_score(y_val, y_val_pred_mlp),\n",
    "    'test_r2': r2_score(y_test, y_test_pred_mlp)\n",
    "}\n",
    "\n",
    "print(f\"\\n📊 Resultados MLP:\")\n",
    "print(f\"   - Test RMSE: {mlp_results['test_rmse']:.4f}\")\n",
    "print(f\"   - Test MAE:  {mlp_results['test_mae']:.4f}\")\n",
    "print(f\"   - Test R2:   {mlp_results['test_r2']:.4f}\")\n",
    "\n",
    "print(f\"\\n✅ Ambos modelos entrenados exitosamente!\")\n"
   ]
  },
  {
   "cell_type": "markdown",
   "metadata": {
    "vscode": {
     "languageId": "raw"
    }
   },
   "source": [
    "# Comparación de Modelos\n",
    "\n",
    "## XGBoost vs Random Forest vs MLP\n",
    "\n",
    "Comparamos los tres modelos usando las métricas de test (datos nunca vistos durante entrenamiento).\n"
   ]
  },
  {
   "cell_type": "code",
   "execution_count": 27,
   "metadata": {},
   "outputs": [
    {
     "name": "stdout",
     "output_type": "stream",
     "text": [
      "📊 COMPARACIÓN DE MODELOS - MÉTRICAS DE TEST\n",
      "==================================================\n",
      "       Modelo  Test RMSE  Test MAE  Test R²\n",
      "      XGBoost     0.9029    0.5048   0.7885\n",
      "Random Forest     0.9323    0.6186   0.7745\n",
      "          MLP     0.9059    0.4905   0.7871\n",
      "\n",
      "🏆 MEJORES MODELOS POR MÉTRICA:\n",
      "   - Menor RMSE: XGBoost (0.9029)\n",
      "   - Menor MAE:  MLP (0.4905)\n",
      "   - Mayor R²:   XGBoost (0.7885)\n"
     ]
    },
    {
     "data": {
      "image/png": "[encoded data removed]",
      "text/plain": [
       "<Figure size 1500x500 with 3 Axes>"
      ]
     },
     "metadata": {},
     "output_type": "display_data"
    },
    {
     "name": "stdout",
     "output_type": "stream",
     "text": [
      "\n",
      "✅ Comparación visualizada\n"
     ]
    }
   ],
   "source": [
    "# Tabla comparativa de resultados\n",
    "import matplotlib.pyplot as plt\n",
    "import seaborn as sns\n",
    "\n",
    "# Consolidar resultados de XGBoost\n",
    "xgboost_results = {\n",
    "    'test_rmse': results['test_rmse'],\n",
    "    'test_mae': results['test_mae'], \n",
    "    'test_r2': results['test_r2']\n",
    "}\n",
    "\n",
    "# Crear DataFrame comparativo\n",
    "comparison_data = {\n",
    "    'Modelo': ['XGBoost', 'Random Forest', 'MLP'],\n",
    "    'Test RMSE': [xgboost_results['test_rmse'], rf_results['test_rmse'], mlp_results['test_rmse']],\n",
    "    'Test MAE': [xgboost_results['test_mae'], rf_results['test_mae'], mlp_results['test_mae']],\n",
    "    'Test R²': [xgboost_results['test_r2'], rf_results['test_r2'], mlp_results['test_r2']]\n",
    "}\n",
    "\n",
    "df_comparison = pd.DataFrame(comparison_data)\n",
    "\n",
    "print(\"📊 COMPARACIÓN DE MODELOS - MÉTRICAS DE TEST\")\n",
    "print(\"=\" * 50)\n",
    "print(df_comparison.round(4).to_string(index=False))\n",
    "\n",
    "# Identificar el mejor modelo para cada métrica\n",
    "best_rmse = df_comparison.loc[df_comparison['Test RMSE'].idxmin(), 'Modelo']\n",
    "best_mae = df_comparison.loc[df_comparison['Test MAE'].idxmin(), 'Modelo']  \n",
    "best_r2 = df_comparison.loc[df_comparison['Test R²'].idxmax(), 'Modelo']\n",
    "\n",
    "print(f\"\\n🏆 MEJORES MODELOS POR MÉTRICA:\")\n",
    "print(f\"   - Menor RMSE: {best_rmse} ({df_comparison['Test RMSE'].min():.4f})\")\n",
    "print(f\"   - Menor MAE:  {best_mae} ({df_comparison['Test MAE'].min():.4f})\")\n",
    "print(f\"   - Mayor R²:   {best_r2} ({df_comparison['Test R²'].max():.4f})\")\n",
    "\n",
    "# Visualización comparativa\n",
    "fig, axes = plt.subplots(1, 3, figsize=(15, 5))\n",
    "\n",
    "# RMSE\n",
    "sns.barplot(data=df_comparison, x='Modelo', y='Test RMSE', ax=axes[0])\n",
    "axes[0].set_title('Test RMSE')\n",
    "axes[0].set_ylabel('RMSE')\n",
    "\n",
    "# MAE  \n",
    "sns.barplot(data=df_comparison, x='Modelo', y='Test MAE', ax=axes[1])\n",
    "axes[1].set_title('Test MAE)')\n",
    "axes[1].set_ylabel('MAE')\n",
    "\n",
    "# R²\n",
    "sns.barplot(data=df_comparison, x='Modelo', y='Test R²', ax=axes[2])\n",
    "axes[2].set_title('Test R²')\n",
    "axes[2].set_ylabel('R²')\n",
    "\n",
    "plt.tight_layout()\n",
    "plt.show()\n",
    "\n",
    "print(\"\\n✅ Comparación visualizada\")\n"
   ]
  },
  {
   "cell_type": "markdown",
   "metadata": {
    "vscode": {
     "languageId": "raw"
    }
   },
   "source": [
    "# Conclusiones y Recomendaciones\n",
    "\n",
    "## Análisis de Resultados\n",
    "\n",
    "### Fortalezas de cada modelo:\n",
    "\n",
    "**XGBoost** 🥇\n",
    "- Optimizado específicamente para conteos con loss de Poisson\n",
    "- Excelente para datos tabulares con features categóricas  \n",
    "- Maneja automáticamente features no lineales e interacciones\n",
    "- Rápido en inferencia\n",
    "\n",
    "**Random Forest** 🌳\n",
    "- Robusto contra overfitting\n",
    "- Interpretable y estable\n",
    "- No requiere tuning extensivo de hiperparámetros\n",
    "- Buen baseline para comparación\n",
    "\n",
    "**MLP** 🧠  \n",
    "- Capacidad para capturar patrones complejos no lineales\n",
    "- Flexible para diferentes arquitecturas\n",
    "- Puede mejorar con más datos y mejor tuning\n",
    "- Requiere normalización de features\n"
   ]
  }
 ],
 "metadata": {
  "kernelspec": {
   "display_name": "mldl_clean",
   "language": "python",
   "name": "python3"
  },
  "language_info": {
   "codemirror_mode": {
    "name": "ipython",
    "version": 3
   },
   "file_extension": ".py",
   "mimetype": "text/x-python",
   "name": "python",
   "nbconvert_exporter": "python",
   "pygments_lexer": "ipython3",
   "version": "3.10.18"
  }
 },
 "nbformat": 4,
 "nbformat_minor": 2
}
